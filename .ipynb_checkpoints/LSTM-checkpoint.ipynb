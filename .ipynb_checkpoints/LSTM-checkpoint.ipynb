{
 "cells": [
  {
   "cell_type": "code",
   "execution_count": null,
   "id": "47cb8761",
   "metadata": {},
   "outputs": [],
   "source": [
    "import numpy as np\n",
    "import pandas as pd\n",
    "import tensorflow as tf\n",
    "import math\n",
    "import torch\n",
    "import matplotlib.pyplot as plt\n",
    "from sklearn.metrics import mean_squared_error\n",
    "from sklearn.preprocessing import MinMaxScaler\n",
    "from tensorflow.keras.models import Sequential\n",
    "from tensorflow.keras.layers import LSTM, Dense"
   ]
  },
  {
   "cell_type": "code",
   "execution_count": null,
   "id": "bfa50d12",
   "metadata": {},
   "outputs": [],
   "source": [
    "# 数据的差分转换\n",
    "def difference(data_set,interval=1):\n",
    "    diff=list()\n",
    "    for i in range(interval,len(data_set)):\n",
    "        value=data_set[i]-data_set[i-interval]\n",
    "        diff.append(value)\n",
    "    return pd.Series(diff)"
   ]
  },
  {
   "cell_type": "code",
   "execution_count": null,
   "id": "454f2bac",
   "metadata": {},
   "outputs": [],
   "source": [
    "# 对预测的数据进行逆差分转换\n",
    "def invert_difference(history,yhat,interval=1):\n",
    "    return yhat+history[-interval]"
   ]
  },
  {
   "cell_type": "code",
   "execution_count": null,
   "id": "cd54b5c7",
   "metadata": {},
   "outputs": [],
   "source": [
    "# 将数据转换为监督学习集，移位后产生的NaN值补0\n",
    "def timeseries_to_supervised(data,lag=1):\n",
    "    df=pd.DataFrame(data)\n",
    "    columns=[df.shift(i) for i in range(1,lag+1)]\n",
    "    columns.append(df)\n",
    "    df=pd.concat(columns,axis=1)\n",
    "    df.fillna(0,inplace=True)\n",
    "    return df"
   ]
  },
  {
   "cell_type": "code",
   "execution_count": null,
   "id": "aab278c8",
   "metadata": {},
   "outputs": [],
   "source": [
    "\n",
    "# 将数据缩放到[-1,1]之间\n",
    "def scale(train,test):\n",
    "    # 创建一个缩放器，将数据集中的数据缩放到[-1,1]的取值范围中\n",
    "    scaler=MinMaxScaler(feature_range=(-1,1))\n",
    "    # 使用数据来训练缩放器\n",
    "    scaler=scaler.fit(train)\n",
    "    # 使用缩放器来将训练集和测试集进行缩放\n",
    "    train_scaled=scaler.transform(train)\n",
    "    test_scaled=scaler.transform(test)\n",
    "    return scaler,train_scaled,test_scaled"
   ]
  },
  {
   "cell_type": "code",
   "execution_count": null,
   "id": "f7a58706",
   "metadata": {},
   "outputs": [],
   "source": [
    "\n",
    "# 将预测值进行逆缩放，使用之前训练好的缩放器，x为一维数组，y为实数\n",
    "def invert_scale(scaler,X,y):\n",
    "    # 将X,y转换为一个list列表\n",
    "    new_row=[x for x in X]+[y]\n",
    "    # 将列表转换为数组\n",
    "    array=np.array(new_row)\n",
    "    # 将数组重构成一个形状为[1,2]的二维数组->[[10,12]]\n",
    "    array=array.reshape(1,len(array))\n",
    "    # 逆缩放输入的形状为[1,2]，输出形状也是如此\n",
    "    invert=scaler.inverse_transform(array)\n",
    "    # 只需要返回y值即可\n",
    "    return invert[0,-1]"
   ]
  },
  {
   "cell_type": "code",
   "execution_count": null,
   "id": "6e70a912",
   "metadata": {},
   "outputs": [],
   "source": [
    "\n",
    "# 构建一个LSTM模型\n",
    "def fit_lstm(train,batch_size,nb_epoch,neurons):\n",
    "    # 将数据对中的x和y分开\n",
    "    X,y=train[:,0:-1],train[:,-1]\n",
    "    # 将2D数据拼接成3D数据，形状为[N*1*1]\n",
    "    X=X.reshape(X.shape[0],1,X.shape[1])\n",
    " \n",
    "    model=Sequential()\n",
    "    model.add(LSTM(neurons,batch_input_shape=(batch_size,X.shape[1],X.shape[2]),stateful=True))\n",
    "    model.add(Dense(1))\n",
    " \n",
    "    model.compile(loss='mean_squared_error',optimizer='adam')\n",
    "    for i in range(nb_epoch):\n",
    "        # shuffle是不混淆数据顺序\n",
    "        his=model.fit(X,y,batch_size=batch_size,verbose=1,shuffle=False)\n",
    "        # 每训练完一次就重置一次网络状态，网络状态与网络权重不同\n",
    "        model.reset_states()\n",
    "    return model"
   ]
  },
  {
   "cell_type": "code",
   "execution_count": null,
   "id": "a8a37b75",
   "metadata": {},
   "outputs": [],
   "source": [
    "\n",
    "# 开始单步预测\n",
    "def forecast_lstm(model,batch_size,X):\n",
    "    # 将形状为[1:]的，包含一个元素的一维数组X，转换形状为[1,1,1]的3D张量\n",
    "    X=X.reshape(1,1,len(X))\n",
    "    # 输出形状为1行一列的二维数组yhat\n",
    "    yhat=model.predict(X,batch_size=batch_size)\n",
    "    # 将yhat中的结果返回\n",
    "    return yhat[0,0]"
   ]
  },
  {
   "cell_type": "code",
   "execution_count": null,
   "id": "29135402",
   "metadata": {},
   "outputs": [],
   "source": [
    "data = pd.read_excel('data.xlsx')\n",
    "data.drop(['x1','x2','x3','x4','x5','x6','x7','x8','x9'],axis=1,inplace=True)\n",
    "data['date']=pd.to_datetime(data['date'])\n",
    "series=data.set_index(['date'],drop=True)\n",
    "\n",
    "train_data = data.iloc[:120,:]\n",
    "test_data = data.iloc[121:,:]"
   ]
  },
  {
   "cell_type": "code",
   "execution_count": null,
   "id": "8e460ee8",
   "metadata": {},
   "outputs": [],
   "source": [
    "series = data.set_index(['date'])\n",
    "plt.figure(figsize=(10, 6))\n",
    "series['yt'].plot()"
   ]
  },
  {
   "cell_type": "code",
   "execution_count": null,
   "id": "e2bd1c46",
   "metadata": {},
   "outputs": [],
   "source": [
    "# 将原数据转换为二维数组形式，例如：\n",
    "raw_value=series.values\n",
    "#print(raw_value)\n",
    "# 将数据进行差分转换\n",
    "diff_value=difference(raw_value,1)\n",
    "print(diff_value)\n",
    "# 将序列形式的数据转换为监督学习集形式，例如[[10],[11],[12],[13]]\n",
    "# 在此将其转换为监督学习集形式：[[0,10],[10,11],[11,12],[12,13]]，\n",
    "# 即前一个数作为输入，后一个数作为对应的输出\n",
    "supervised=timeseries_to_supervised(diff_value,1)\n",
    "supervised_value=supervised.values"
   ]
  },
  {
   "cell_type": "code",
   "execution_count": null,
   "id": "6d1548b7",
   "metadata": {},
   "outputs": [],
   "source": [
    "# 将数据集分割为训练集和测试集，设置后1000个数据为测试集\n",
    "testNum=50\n",
    "train,test=supervised_value[:-testNum],supervised_value[-testNum:]\n",
    "print(train)"
   ]
  },
  {
   "cell_type": "code",
   "execution_count": null,
   "id": "d645ce6e",
   "metadata": {},
   "outputs": [],
   "source": [
    "# 将训练集和测试集都缩放到[-1,1]之间\n",
    "scaler,train_scaled,test_scaled=scale(train,test)"
   ]
  },
  {
   "cell_type": "code",
   "execution_count": null,
   "id": "876c7283",
   "metadata": {},
   "outputs": [],
   "source": [
    "# 构建一个LSTM模型并训练，样本数为1，训练次数为5，LSTM层神经元个数为4\n",
    "lstm_model=fit_lstm(train_scaled,1,1,4)"
   ]
  },
  {
   "cell_type": "code",
   "execution_count": null,
   "id": "8498b8f2",
   "metadata": {
    "scrolled": false
   },
   "outputs": [],
   "source": [
    "\n",
    "predictions=list()\n",
    "for i in range(len(test_scaled)):\n",
    "    # 将测试集拆分为X和y\n",
    "    X,y=test[i,0:-1],test[i,-1]\n",
    "    # 将训练好的模型、测试数据传入预测函数中\n",
    "    #X = torch.tensor(X)\n",
    "    yhat=forecast_lstm(lstm_model,1,X)\n",
    "    # 将预测值进行逆缩放\n",
    "    yhat=invert_scale(scaler,X,yhat)\n",
    "    # 对预测的y值进行逆差分\n",
    "    yhat=invert_difference(raw_value,yhat,len(test_scaled)+1-i)\n",
    "    # 存储正在预测的y值\n",
    "    predictions.append(yhat)"
   ]
  },
  {
   "cell_type": "code",
   "execution_count": null,
   "id": "1b50b4aa",
   "metadata": {},
   "outputs": [],
   "source": [
    "# 计算方差\n",
    "rmse=mean_squared_error(raw_value[-testNum:],predictions)\n",
    "print(\"Test RMSE:\",rmse)\n",
    "plt.plot(raw_value[-testNum:])\n",
    "plt.plot(predictions)\n",
    "plt.legend(['real','pred'])\n",
    "plt.show()"
   ]
  },
  {
   "cell_type": "code",
   "execution_count": null,
   "id": "b312e033",
   "metadata": {},
   "outputs": [],
   "source": []
  }
 ],
 "metadata": {
  "kernelspec": {
   "display_name": "Python 3 (ipykernel)",
   "language": "python",
   "name": "python3"
  },
  "language_info": {
   "codemirror_mode": {
    "name": "ipython",
    "version": 3
   },
   "file_extension": ".py",
   "mimetype": "text/x-python",
   "name": "python",
   "nbconvert_exporter": "python",
   "pygments_lexer": "ipython3",
   "version": "3.10.9"
  }
 },
 "nbformat": 4,
 "nbformat_minor": 5
}
